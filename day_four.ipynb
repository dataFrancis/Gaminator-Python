{
 "cells": [
  {
   "cell_type": "code",
   "execution_count": 1,
   "id": "535e84e6",
   "metadata": {},
   "outputs": [
    {
     "name": "stdout",
     "output_type": "stream",
     "text": [
      "The Zen of Python, by Tim Peters\n",
      "\n",
      "Beautiful is better than ugly.\n",
      "Explicit is better than implicit.\n",
      "Simple is better than complex.\n",
      "Complex is better than complicated.\n",
      "Flat is better than nested.\n",
      "Sparse is better than dense.\n",
      "Readability counts.\n",
      "Special cases aren't special enough to break the rules.\n",
      "Although practicality beats purity.\n",
      "Errors should never pass silently.\n",
      "Unless explicitly silenced.\n",
      "In the face of ambiguity, refuse the temptation to guess.\n",
      "There should be one-- and preferably only one --obvious way to do it.\n",
      "Although that way may not be obvious at first unless you're Dutch.\n",
      "Now is better than never.\n",
      "Although never is often better than *right* now.\n",
      "If the implementation is hard to explain, it's a bad idea.\n",
      "If the implementation is easy to explain, it may be a good idea.\n",
      "Namespaces are one honking great idea -- let's do more of those!\n"
     ]
    }
   ],
   "source": [
    "import this"
   ]
  },
  {
   "cell_type": "markdown",
   "id": "5d875918",
   "metadata": {},
   "source": [
    "# Let's Learn!!"
   ]
  },
  {
   "cell_type": "code",
   "execution_count": 3,
   "id": "7d3adab9",
   "metadata": {},
   "outputs": [
    {
     "name": "stdout",
     "output_type": "stream",
     "text": [
      " Volume in drive C has no label.\n",
      " Volume Serial Number is CE6E-FCA0\n",
      "\n",
      " Directory of C:\\Users\\USER\\Desktop\\Data 1\\GaminatorPy\n",
      "\n",
      "06/20/2022  09:19 AM    <DIR>          .\n",
      "06/20/2022  09:19 AM    <DIR>          ..\n",
      "06/20/2022  09:06 AM    <DIR>          .ipynb_checkpoints\n",
      "06/15/2022  08:49 AM             5,017 day_1.ipynb\n",
      "06/15/2022  12:36 PM             8,456 day_2.ipynb\n",
      "06/20/2022  08:49 AM            12,632 day_3.ipynb\n",
      "06/20/2022  09:19 AM             2,309 day_four.ipynb\n",
      "06/14/2022  11:49 AM                42 README.md\n",
      "               5 File(s)         28,456 bytes\n",
      "               3 Dir(s)   4,617,318,400 bytes free\n"
     ]
    }
   ],
   "source": [
    "ls"
   ]
  },
  {
   "cell_type": "code",
   "execution_count": 4,
   "id": "da4769bb",
   "metadata": {},
   "outputs": [],
   "source": [
    "mkdir data_files"
   ]
  },
  {
   "cell_type": "code",
   "execution_count": 5,
   "id": "5db2d9a4",
   "metadata": {},
   "outputs": [
    {
     "name": "stdout",
     "output_type": "stream",
     "text": [
      " Volume in drive C has no label.\n",
      " Volume Serial Number is CE6E-FCA0\n",
      "\n",
      " Directory of C:\\Users\\USER\\Desktop\\Data 1\\GaminatorPy\n",
      "\n",
      "06/20/2022  09:24 AM    <DIR>          .\n",
      "06/20/2022  09:24 AM    <DIR>          ..\n",
      "06/20/2022  09:06 AM    <DIR>          .ipynb_checkpoints\n",
      "06/20/2022  09:24 AM    <DIR>          data_files\n",
      "06/15/2022  08:49 AM             5,017 day_1.ipynb\n",
      "06/15/2022  12:36 PM             8,456 day_2.ipynb\n",
      "06/20/2022  08:49 AM            12,632 day_3.ipynb\n",
      "06/20/2022  09:23 AM             3,198 day_four.ipynb\n",
      "06/14/2022  11:49 AM                42 README.md\n",
      "               5 File(s)         29,345 bytes\n",
      "               4 Dir(s)   4,621,234,176 bytes free\n"
     ]
    }
   ],
   "source": [
    "ls"
   ]
  },
  {
   "cell_type": "code",
   "execution_count": 6,
   "id": "77a0a699",
   "metadata": {},
   "outputs": [
    {
     "name": "stdout",
     "output_type": "stream",
     "text": [
      "C:\\Users\\USER\\Desktop\\Data 1\\GaminatorPy\\data_files\n"
     ]
    }
   ],
   "source": [
    "cd data_files"
   ]
  },
  {
   "cell_type": "code",
   "execution_count": 9,
   "id": "f1b3ac2f",
   "metadata": {},
   "outputs": [
    {
     "name": "stdout",
     "output_type": "stream",
     "text": [
      " Volume in drive C has no label.\n",
      " Volume Serial Number is CE6E-FCA0\n",
      "\n",
      " Directory of C:\\Users\\USER\\Desktop\\Data 1\\GaminatorPy\\data_files\n",
      "\n",
      "06/20/2022  09:27 AM    <DIR>          .\n",
      "06/20/2022  09:27 AM    <DIR>          ..\n",
      "06/20/2022  09:27 AM                26 new_text.txt\n",
      "               1 File(s)             26 bytes\n",
      "               2 Dir(s)   4,618,625,024 bytes free\n"
     ]
    }
   ],
   "source": [
    "ls"
   ]
  },
  {
   "cell_type": "code",
   "execution_count": 13,
   "id": "f12ee4bf",
   "metadata": {},
   "outputs": [
    {
     "name": "stdout",
     "output_type": "stream",
     "text": [
      "['hello', 'Thanks', 'hi', 'go here']\n"
     ]
    }
   ],
   "source": [
    "file_path = \"C:/Users/USER/Desktop/Data 1/GaminatorPy/data_files/new_text.txt\"\n",
    "with open(file_path, \"r\") as file:\n",
    "    r_file = file.read().split(\"\\n\")\n",
    "print(r_file)"
   ]
  },
  {
   "cell_type": "code",
   "execution_count": 14,
   "id": "e91f8069",
   "metadata": {},
   "outputs": [],
   "source": [
    "import os"
   ]
  },
  {
   "cell_type": "code",
   "execution_count": 67,
   "id": "beb47800",
   "metadata": {},
   "outputs": [
    {
     "name": "stdout",
     "output_type": "stream",
     "text": [
      "[[1.0, 2.0, 4.0, 5.0, 6.0, 9.0], [1.0, 2.0, 3.0, 4.0, 5.0, 6.0, 7.0]]\n"
     ]
    }
   ],
   "source": [
    "all_data = []\n",
    "path = \"C:/Users/USER/Desktop/Data 1/GaminatorPy/new_data\"\n",
    "list_path = os.listdir(path)\n",
    "for i in list_path:\n",
    "    path_file = path + \"/\" + i\n",
    "    file_val = os.listdir(path_file)\n",
    "    #print(file_val)\n",
    "    new_path = path_file + \"/\" + file_val[-1]\n",
    "    #print(new_path)\n",
    "    with open(new_path, \"r\") as file:\n",
    "        a = file.read().split()\n",
    "        all_data.append(a)\n",
    "#print(all_data)\n",
    "new_data = []\n",
    "for i in all_data:\n",
    "    a_b = []\n",
    "    for n in i:\n",
    "        b = float(n)\n",
    "        a_b.append(b)\n",
    "    new_data.append(a_b)\n",
    "print(new_data)"
   ]
  },
  {
   "cell_type": "code",
   "execution_count": 69,
   "id": "719e1d8b",
   "metadata": {},
   "outputs": [
    {
     "name": "stdout",
     "output_type": "stream",
     "text": [
      "[[1.0, 2.0, 4.0, 5.0, 6.0, 9.0, 2.5], [1.0, 2.0, 3.0, 4.0, 5.0, 6.0, 7.0]]\n"
     ]
    }
   ],
   "source": [
    "data_val = []\n",
    "for i in new_data:\n",
    "    if len(i) < 7:\n",
    "        i.append(2.5)\n",
    "    data_val.append(i)\n",
    "print(data_val)\n"
   ]
  },
  {
   "cell_type": "code",
   "execution_count": 86,
   "id": "38559f56",
   "metadata": {},
   "outputs": [
    {
     "name": "stdout",
     "output_type": "stream",
     "text": [
      "Enter the commands\n",
      " press 1 => to write files\n",
      " press 0 => to clear backlogs\n",
      "\n",
      "enter commands: 0\n"
     ]
    }
   ],
   "source": [
    "new_file = \"C:/Users/USER/Desktop/Data 1/GaminatorPy/new_data/pressure_law.txt\"\n",
    "print(\"\"\"Enter the commands\n",
    " press 1 => to write files\n",
    " press 0 => to clear backlogs\n",
    "\"\"\")\n",
    "enter_press = input(\"enter commands: \")\n",
    "\n",
    "if enter_press == \"1\":\n",
    "    file_w = open(new_file, \"a\")\n",
    "    for i in range(0, len(data_val[1])):\n",
    "        k_p = data_val[0][i]/data_val[1][i]\n",
    "        file_w.write(f\"{k_p}\\n\")\n",
    "elif enter_press == \"0\":\n",
    "    file_w = open(new_file, \"w\")\n",
    "    file_w.write(\" \")\n",
    "else:\n",
    "    print(\"inputs invalid\")"
   ]
  },
  {
   "cell_type": "code",
   "execution_count": null,
   "id": "cf6c3773",
   "metadata": {},
   "outputs": [],
   "source": []
  }
 ],
 "metadata": {
  "kernelspec": {
   "display_name": "Python 3 (ipykernel)",
   "language": "python",
   "name": "python3"
  },
  "language_info": {
   "codemirror_mode": {
    "name": "ipython",
    "version": 3
   },
   "file_extension": ".py",
   "mimetype": "text/x-python",
   "name": "python",
   "nbconvert_exporter": "python",
   "pygments_lexer": "ipython3",
   "version": "3.9.7"
  }
 },
 "nbformat": 4,
 "nbformat_minor": 5
}
